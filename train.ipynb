{
 "cells": [
  {
   "cell_type": "code",
   "execution_count": 3,
   "metadata": {},
   "outputs": [],
   "source": [
    "\"\"\"\n",
    "doc2vec using gensim library\n",
    "\"\"\"\n",
    "from pyexpat import model\n",
    "import gensim\n",
    "import numpy as np\n",
    "import pandas as pd\n",
    "from nltk import word_tokenize\n",
    "from gensim.models.doc2vec import Doc2Vec, TaggedDocument\n",
    "import import_ipynb\n",
    "import dataset_preprocess\n",
    "from dataset_preprocess import preprocess"
   ]
  },
  {
   "cell_type": "code",
   "execution_count": 12,
   "metadata": {},
   "outputs": [
    {
     "name": "stdout",
     "output_type": "stream",
     "text": [
      "test word list  ['abhishek katke', 'contact 91 9370740205 gmail abhishekkatke8602gmailcom linkedin abhishek katke 8602', 'education', 'pune institute of computer tec hnology', 'bachelor of engineering in electronics telecommunications engineering june 2020 july 2024', 'honors in artificial intelligence and machine learning june 2022 july 2024', 'gpa 88610', 'fergusson college pune', 'hsc percentage 8400 june 2018 july2020', 'modern high school ncl campus pashan pune', 'ssc percentage 9480 june 2006 july 2018', 'work experience', 'tsl consulting pvt ltd feb 2023 june 2023', 'full stack web development intern', 'worked on live application based on php html css and added data visualization using python libraries', 'like matplotlib seaborn', 'projects', 'glimpse of signs', 'implemented zodiac predicting website using python html css javascript and mongodb', 'used frameworks like flask and python libraries like smtp and api like twilio', 'steganography', 'java project for encryption and decryption of image to hide messages in image using swing awt util io', 'packages', 'user interface design created a graphical user interface using swing and awt components to make the', 'application', 'ecommerce management system', 'implemented e commerce management system using mysql queries to apply crud operations and', 'dbms concepts', 'achievements', 'scored in top 1 percentile in mht cet exam with over 2 lakh candidates', 'secured 1st rank in school in 10th grade', 'secured 3657 in google kickstart oct 2022', 'skills', 'technical skills non techinal skills', 'languages c python java communication critical thinking', 'hardware arduino embedded c pcb designing public speaking debate enthusiast', 'dsa problem solving oop teamwork leadership', 'other mysql mongodb', 'positions of responsibility', 'volunteer pict nss', 'head of content team soft skills development july 2021 present', 'member pict debate society aug 2021 present', 'certifications', 'vois fundamentals of aiml', 'basics of oop and c', 'sql by hacker rank', 'sql by simplilear n', 'python by pict', 'abhishek koteemail abhishekkote29gmailcom', 'linkedin abhishekkote', 'github githubcomabhi27122', 'education', 'pune institute of computer t echnology pune', 'electronics and t elecommunication engineering cgpa894 2020current', 'abhinav education society akole', 'hsc board12th percentage 7277 20182020', 'agasti vidyalaya akole', 'ssc board10th percentage 9160 20132018', 'skills', 'mobile app development flutter dart', 'game development love2d lua', 'database management mysql coding proficiency c java', 'problem solving', 'projects', 'campusreads î', 'android app which allows people to buys or sell bookbook set', 't echnology stack flutterfirebaseopenlibrary api', 'integrated features like google authenticationfirebase storageandroid native device features', 'connect 4 î', 'developed a classic connect 4 game using love2d game engine', 'implemented win condition checks and endgame detection for a seamless user experience', 'ensured compatibility with multiple platforms including windows and macos collaborated with a team of', 'gamedevutopia', 'achievements and certifications', 'achievements', 'codechef 3 star coder', 'solved more than 400 problems on various', 'competative programming platformscertifications', 'mathematics for machine learning credential', 'id 2256t a983bcw', 'accelerated computer science f undamentals', 'specialization credential id qzxzasupg8gn', 'extracurricular activitiesinterests', 'member at gamedevutopia club', 'chess chesscom rating of 1500', 'competitive programming']\n",
      "doc2vec model saved at  Models/doc2vec_model.model\n"
     ]
    }
   ],
   "source": [
    "def doc2vec(train_word_list, test_word_list, model_save_path, vector_save_path):\n",
    "    # Create tagged documents for training data\n",
    "    tagged_train_docs = [TaggedDocument(words=word_tokenize(doc), tags=[i]) for i, doc in enumerate(train_word_list)]\n",
    "    \n",
    "    # Create tagged documents for test data\n",
    "    tagged_test_docs = [TaggedDocument(words=word_tokenize(doc), tags=[i]) for i, doc in enumerate(test_word_list)]\n",
    "    \n",
    "    # Initialize Doc2Vec model\n",
    "    model = Doc2Vec(vector_size=300, window=5, min_count=5, workers=4, epochs=20)\n",
    "    \n",
    "    # Build vocabulary from training data\n",
    "    model.build_vocab(tagged_train_docs)\n",
    "    \n",
    "    # Train the model on training data\n",
    "    model.train(tagged_train_docs, total_examples=model.corpus_count, epochs=model.epochs)\n",
    "    \n",
    "    # Save the trained model\n",
    "    model.save(model_save_path)\n",
    "    \n",
    "    # Generate document vectors for training and test data\n",
    "    train_vectors = [model.infer_vector(doc.words) for doc in tagged_train_docs]\n",
    "    test_vectors = [model.infer_vector(doc.words) for doc in tagged_test_docs]\n",
    "    \n",
    "    # Save the document vectors\n",
    "    np.save(vector_save_path + '/train_vectors.npy', train_vectors)\n",
    "    np.save(vector_save_path + '/test_vectors.npy', test_vectors)\n",
    "    print('doc2vec model saved at ',model_save_path)\n",
    "\n",
    "if __name__ == '__main__':\n",
    "    train_dataset_dir=\"Dataset/Train\"\n",
    "    test_dataset_dir=\"Dataset/Test\"\n",
    "    model_save_path=\"Models/doc2vec_model.model\"\n",
    "    vector_save_path=\"Models/doc2vec_vector.txt\"\n",
    "\n",
    "    train_word_list=preprocess(train_dataset_dir)\n",
    "    test_word_list=preprocess(test_dataset_dir)\n",
    "    print('test word list ',test_word_list)\n",
    "\n",
    "    doc2vec(train_word_list,test_dataset_dir,model_save_path,vector_save_path)\n",
    "   "
   ]
  },
  {
   "cell_type": "code",
   "execution_count": null,
   "metadata": {},
   "outputs": [],
   "source": []
  }
 ],
 "metadata": {
  "kernelspec": {
   "display_name": "base",
   "language": "python",
   "name": "python3"
  },
  "language_info": {
   "codemirror_mode": {
    "name": "ipython",
    "version": 3
   },
   "file_extension": ".py",
   "mimetype": "text/x-python",
   "name": "python",
   "nbconvert_exporter": "python",
   "pygments_lexer": "ipython3",
   "version": "undefined.undefined.undefined"
  }
 },
 "nbformat": 4,
 "nbformat_minor": 2
}
