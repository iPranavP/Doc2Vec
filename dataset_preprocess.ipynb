{
 "cells": [
  {
   "cell_type": "code",
   "execution_count": 3,
   "id": "a8af11c5",
   "metadata": {},
   "outputs": [],
   "source": [
    "\"\"\"\n",
    "loop through a directory and extarct the text of each file and make a list of the text\n",
    "\"\"\"\n",
    "from fileinput import filename\n",
    "import os\n",
    "import re\n",
    "import nltk\n",
    "import gensim\n",
    "from nltk.tokenize import word_tokenize\n",
    "from nltk.corpus import stopwords"
   ]
  },
  {
   "cell_type": "code",
   "execution_count": 4,
   "id": "d72bb946",
   "metadata": {},
   "outputs": [
    {
     "name": "stdout",
     "output_type": "stream",
     "text": [
      "['educationskills', 'experienceprojects', 'contact abhaybhat86gmailcom', 'puneindia', '9149842985languages', 'c basics of java', 'technology stack', 'htmlcssjsnodejsreactjsmongodbexpressjs', 'coursework osdbmscomputer networksoops', 'an socialmedia application where users can registerlogin and', 'post their posts', 'techstack', 'reactjshtmlcssjsnodejsexpressjsmongodbmulter 20232023sociopedia application mern stackbachelor of engineering in information technology', 'university of pune 2020 2024pune institute of computer', 'technology', 'ssc912 20192020', 'hsc824 20172018', 'army public school damana i am an undergraduate fresher seeking a fulltime position and opportunity where i can apply', 'my knowledge and skills for continuous improvementabhay bhat', 'row house manager', '20232023', 'building a online chat application for me and my friends', 'techstack reactjshtmlcssjsnodejsexpressjsmongodbcgpa 890', 'abhijeet dhane location pune maharashtra india', 'abhijeetdhanecom linkedin github leetcode email dhaneabhijeet30gmailcom mobile 7028021588', 'personal profile', 'i am a highly motivated and enthusiastic finalyear student with strong interest in problem solving curious to learn new', 'technologies and use it solve realworld problems or improve existing technologies', 'education', 'be in computer engineering cgpa 926', 'pune institute of computer technology aug 2020 jun 2024expected', 'higher secondary school certificate exam hsc percentage 8862', 'pragnya junior college of science july 2018 may 2020', 'indian certificate of secondary education icse percentage 908', 'rosary high school june 2008 may 2018', 'technical skills', 'languages c python sql javascript', 'technologies html css mysql reactjs mongodb git and github', 'libraries numpy pandas seaborn matplotlib plotly cufflinks', 'projects', 'pocketdrs source code', 'designed a new model using quadratic regression and tensorflow to review lbw decisions thereby helping', 'onfield umpires in cricket to make accurate lbw decision', 'using our model regional cricket tournaments can implement decision review system at very low cost', 'thoughtwaves source code', 'developed a blogging website using reactjs nodejs expressjs and mongodb', 'cloudinary is used to manage the images on the cloud and mongodb atlas is used as a cloud database', 'implemented signup feature crud operations and like and comment features', 'financedata analysis source code', 'performed exploratory dataanalysis ofstock prices', 'used various python libraries like numpy pandas plotly cufflinks to perform analysis', 'volunteer experience', 'internal affairs committee director jun 2022 july 2023', 'pict debate society', 'actively conducted weekly quizzes group discussions debates and extempore for500 members', 'led the management team ofparicharchaxglitched an annual intercollege public speaking competition that', 'attracted participation from students across colleges nationwide in india', 'skills leadership communication teamwork presentation skills', 'achievements', 'tiaa hackathon23 winner link', 'prefinalist in tally codebrewers hackathon23 link', 'contributed in various opensource projects in gssoc22', 'abhijeet raotole', '91 7 5830423 abhijee t dr ao t olegmailc om', 'education', 'pune institute of', 'computer technology', 'be computer e ngineering', '20202024 pune', 'cum gpa89', 'moolji jetha college', 'high school cert ificate hsc', '2019 jalgaon', 'orion english school', 'secondary school', 'certificatessc', '2017 jalgaon', 'links', 'githubabhijeetdr', 'linkedin abhijeetraotole', 'codeforces abhijeet_d_r', 'codechef abhijeet_d_r', 'leetcode abhijeetdr', 'coursework', 'datastructureandalgorithms', 'objectorientedprogramming', 'databasemanagementsystems', 'operatingsystem', 'machinelearning', 'skills', 'languages', 'pythonc', 'framework', 'djangoflask', 'libraries', 'standardtemplatelibrarystl', 'pandasnumpymatplotlib', 'seabornscikitlearn', 'familiar', 'htmlcss', 'miscellaneous', 'githubvscode', 'activities', 'pict ieee student branch', 'college club cocurricular', 'volunteeringforcodingevents', 'settingproblemsforcontests', 'managedcontestsinvolvingabout', '500participantsexperience', 'imocha', 'problem setter intern', 'nov22present punemaharashtra', 'settingproblemsbasedon datastructuresandalgorithms', 'problemsareusedin codingroundsandtechnicalinterviews for', 'assessmentofcandidates', 'achievements', 'specialist oncodeforces highestrating 1423', 'intop4koutof50kindianparticipantsontheplatform', 'globalrank 784among10kparticipantsincodeforcesround827', '4starsoncodechef highestrating 1938', 'globalrank 22among2kparticpantsincodechefstarter39', 'globalrank 169among2500participantsincodechefstarters42', 'winnerof codesmasher conductedbybhilaiinstituteoftechnology', 'solvedmorethan 1000problemsacrossvariouscodingplatformssuchas', 'codeforcescodechefleetcodegfgetc', 'intop3percentile ofjeemains2020among10lakhstudents', 'intop04percentile ofmhtcet2020among2lakhstudents', 'projects', 'artistica', 'projectlink', 'developedartisticaanartisanfocusedecommercewebapplication', 'usingdjangoframework forcustomersseekinghandcraftedproducts', 'implementedkeyfeaturessuchas userregistrationloginand', 'authentication toensureasecureplatformforusers', 'designeduserinterfacewitharesponsivedesignapproachusing', 'boostrapframework', 'integratedarobust productlistingsystemandproduct', 'recommendation', 'incorporateda searchfunctionality thatenablescustomerstofind', 'specificproducts', 'utilizeda sqlitedatabase toensuredataintegrityandprovidea', 'scalablesolutionforhandlingproductdatauserinformationandorder', 'transactionssecurely', 'fake news detection', 'projectlink', 'developedamachinelearningbasedfakenewsdetectionsystemwith', 'theaimofhelpinguserstoidentifythewhetherthenewsisfakeornot', 'usedvariousclassificationmodelslike decisiontreegradient', 'boostinglogisticrandomforest fornewsdetection', 'modelsuccessivelypredictedthesimilarrateupto 98percentaccuracy', 'onvalidationdata', 'abhijeet sonmale', 'abhijeetsonmale007gmailcom linkedincominabhijeet sonmale 1b401b22a githubcomabhijeet007001', 'mob no 91 9511766199', 'education', 'pune institute of computer technology pune mh', 'be electronics telicommunication engineering 2020 2024 862 cgpa', 'chhatrapati shahu academy science junior collegesatara satara mh', '12th hsc 2020 7769', 'maharaja sayajirao vidyalayasatara satara mh', '10th ssc 2018 9520', 'achievements', 'ssb return dec 2020', 'service selection board', 'conference out from ssb bengaluru ssb kolkata', 'cracked upsc nda 2 times', 'scored 100 out of 100 marks in maths ssc march 2018', 'cracked state level scholarship exams in both 4th 7th march 2012 march 2015', 'satara mh', 'projects', 'hotstar clo ne html css javascript jan 2023 feb 2023', 'technologies used react js', 'food delivery app html css javascript march 2023 april 2023', 'implemented functionalities like login search signin and ca rt', 'technologies used react js mongodb', 'node js express', 'accomplishments and certifications', 'codechef 2star max rating 1453', 'geeks for geeks solved 100 problems', 'completed cloud computing with aws bootcamp by devtown', 'completed backend web development bootcamp by devtown', 'technical skills and other activties', 'languages cc java sql javascript htmlcssmongodb', 'frameworks react js node js express', 'developer tools git aws vs code pycharm eclipsegoogle colab', 'extra curricular skills group discussion debate on various topics', 'other activities cricketwatching historical serials', 'abhijit suryawanshi', 'abhijitsury a w anshi09gmailc om 9021548984', 'education', 'pune institute of', 'computer technology', 'be in c omputer science', '2020 2024pur suing puneindia', 'cum gpa94310', 'amrita junior college', 'class xiipercentage 9108', 'shriram vidyalaya', 'kherade wangi', 'class xpercentage 9380', 'links', 'leetcode abhi_0907', 'hackerrank abhi_0907', 'geeksforgeeks abhi_0907', 'codechef abhi_0907', 'codeforces abhi_0907', 'linkedin abhijit suryawanshi', 'skills', 'programming', 'competitive programming', 'problem solving dsa', 'languages', 'web de vel opmen t', 'html', 'css', 'bootstrap', 'javascript', 'php', 'd a tabase', 'mysql', 'c ore s ubjects', 'data structures andalgorithms', 'object oriented programming', 'database management systems', 'operating systemprojects', 'sortspectra sorting visualizer', 'website which contains visualizations ofvarious sorting', 'algorithms', 'website allows users tochange speed andinput array', 'elements', 'algorithms bubble sort selection sort insertion sort', 'quick sortandmerge sort', 'bloodhub blood donation management system', 'donors andadmin cansignup andlogin tothewebsite', 'using their username andpassword', 'thedonor canaccess andviewtheinformation related to', 'available blood inventory announcements andongoing', 'campaigns', 'theadministrator hastheprivilege toeditdetails ofdonors', 'andcancreate announcements forcampaigns', 'achievements', 'knight max1822 onleetcode', '3max1679 coder oncodechef', '5badges onhackerrank cproblem solving', 'pupil max1329 oncodeforces', 'secured global rank 81among 7000 participants inthe', 'codechef june long 2022', 'secured global rank 506among 23000 participants inthe', 'leetcode biweekly contest 106', 'secured global rank 382among 12000 participants inthe', 'june cookoff 2022', 'solved over1500 problems onvarious coding platforms', 'scored 99603 ileinmhtcet 2020', 'cocurricular activities', 'actively participated invarious coding competition', 'problem setter forvarious coding events', 'abhishek katke', 'contact 91 9370740205 gmail abhishekkatke8602gmailcom linkedin abhishek katke 8602', 'education', 'pune institute of computer tec hnology', 'bachelor of engineering in electronics telecommunications engineering june 2020 july 2024', 'honors in artificial intelligence and machine learning june 2022 july 2024', 'gpa 88610', 'fergusson college pune', 'hsc percentage 8400 june 2018 july2020', 'modern high school ncl campus pashan pune', 'ssc percentage 9480 june 2006 july 2018', 'work experience', 'tsl consulting pvt ltd feb 2023 june 2023', 'full stack web development intern', 'worked on live application based on php html css and added data visualization using python libraries', 'like matplotlib seaborn', 'projects', 'glimpse of signs', 'implemented zodiac predicting website using python html css javascript and mongodb', 'used frameworks like flask and python libraries like smtp and api like twilio', 'steganography', 'java project for encryption and decryption of image to hide messages in image using swing awt util io', 'packages', 'user interface design created a graphical user interface using swing and awt components to make the', 'application', 'ecommerce management system', 'implemented e commerce management system using mysql queries to apply crud operations and', 'dbms concepts', 'achievements', 'scored in top 1 percentile in mht cet exam with over 2 lakh candidates', 'secured 1st rank in school in 10th grade', 'secured 3657 in google kickstart oct 2022', 'skills', 'technical skills non techinal skills', 'languages c python java communication critical thinking', 'hardware arduino embedded c pcb designing public speaking debate enthusiast', 'dsa problem solving oop teamwork leadership', 'other mysql mongodb', 'positions of responsibility', 'volunteer pict nss', 'head of content team soft skills development july 2021 present', 'member pict debate society aug 2021 present', 'certifications', 'vois fundamentals of aiml', 'basics of oop and c', 'sql by hacker rank', 'sql by simplilear n', 'python by pict', 'abhishek koteemail abhishekkote29gmailcom', 'linkedin abhishekkote', 'github githubcomabhi27122', 'education', 'pune institute of computer t echnology pune', 'electronics and t elecommunication engineering cgpa894 2020current', 'abhinav education society akole', 'hsc board12th percentage 7277 20182020', 'agasti vidyalaya akole', 'ssc board10th percentage 9160 20132018', 'skills', 'mobile app development flutter dart', 'game development love2d lua', 'database management mysql coding proficiency c java', 'problem solving', 'projects', 'campusreads î', 'android app which allows people to buys or sell bookbook set', 't echnology stack flutterfirebaseopenlibrary api', 'integrated features like google authenticationfirebase storageandroid native device features', 'connect 4 î', 'developed a classic connect 4 game using love2d game engine', 'implemented win condition checks and endgame detection for a seamless user experience', 'ensured compatibility with multiple platforms including windows and macos collaborated with a team of', 'gamedevutopia', 'achievements and certifications', 'achievements', 'codechef 3 star coder', 'solved more than 400 problems on various', 'competative programming platformscertifications', 'mathematics for machine learning credential', 'id 2256t a983bcw', 'accelerated computer science f undamentals', 'specialization credential id qzxzasupg8gn', 'extracurricular activitiesinterests', 'member at gamedevutopia club', 'chess chesscom rating of 1500', 'competitive programming']\n"
     ]
    }
   ],
   "source": [
    "def preprocess(data_dir):\n",
    "    word_list = []\n",
    "    for directory in os.listdir(data_dir):\n",
    "        #print(directory)\n",
    "        for file in os.listdir(data_dir+'/'+ directory):\n",
    "            #print(file)\n",
    "            filename=os.path.join(data_dir+'/'+ directory, file)\n",
    "            # print(filename)\n",
    "            with open(filename,'r') as f:\n",
    "                data=f.readlines()\n",
    "\n",
    "            data = [re.sub(r'[^\\w\\s]','',line) for line in data]\n",
    "            data = [re.sub(r'\\n','',line) for line in data]\n",
    "            data = [re.sub(r'\\s+',' ',line) for line in data]\n",
    "            data = [line.lower() for line in data]\n",
    "            data = [word for word in data if word not in stopwords.words('english')]\n",
    "            \n",
    "\n",
    "            # if the len of a word is 1, remove it\n",
    "            data = [word for word in data if len(word)>1]\n",
    "            # remove space in the text\n",
    "            data = [word.strip() for word in data]\n",
    "            # print(data)\n",
    "            word_list.extend(data)\n",
    "            # print((word_list))\n",
    "            \n",
    "    return word_list\n",
    "\n",
    "\n",
    "\n",
    "if __name__ == '__main__':\n",
    "    dataset_dir=\"Data/Resumes_Text\"\n",
    "    word_list=preprocess(dataset_dir)\n",
    "    print(word_list)"
   ]
  },
  {
   "cell_type": "code",
   "execution_count": null,
   "id": "4c1493da",
   "metadata": {},
   "outputs": [],
   "source": []
  }
 ],
 "metadata": {
  "kernelspec": {
   "display_name": "Python 3 (ipykernel)",
   "language": "python",
   "name": "python3"
  },
  "language_info": {
   "codemirror_mode": {
    "name": "ipython",
    "version": 3
   },
   "file_extension": ".py",
   "mimetype": "text/x-python",
   "name": "python",
   "nbconvert_exporter": "python",
   "pygments_lexer": "ipython3",
   "version": "3.11.5"
  }
 },
 "nbformat": 4,
 "nbformat_minor": 5
}
