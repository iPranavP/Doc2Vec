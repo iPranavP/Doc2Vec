{
 "cells": [
  {
   "cell_type": "code",
   "execution_count": 3,
   "id": "6ff30e1c",
   "metadata": {},
   "outputs": [],
   "source": [
    "import PyPDF2\n",
    "import os"
   ]
  },
  {
   "cell_type": "code",
   "execution_count": 4,
   "id": "0fdef0f6",
   "metadata": {},
   "outputs": [
    {
     "name": "stdout",
     "output_type": "stream",
     "text": [
      "Conversion complete!\n"
     ]
    }
   ],
   "source": [
    "\n",
    "def pdf_to_text(pdf_path):\n",
    "    \"\"\"Converts the content of a PDF to text format.\"\"\"\n",
    "    text_content = \"\"\n",
    "\n",
    "    with open(pdf_path, 'rb') as pdf_file:\n",
    "        reader = PyPDF2.PdfReader(pdf_file)\n",
    "        for page_num in range(len(reader.pages)):\n",
    "            page = reader.pages[page_num]\n",
    "            text_content += page.extract_text()\n",
    "\n",
    "    return text_content\n",
    "\n",
    "def save_as_text(text_content, output_path):\n",
    "    \"\"\"Saves text content to a text file.\"\"\"\n",
    "    with open(output_path, 'w', encoding='utf-8') as text_file:\n",
    "        text_file.write(text_content)\n",
    "\n",
    "if __name__ == \"__main__\":\n",
    "    folder_path = r\"Data/Resumes\"\n",
    "    \n",
    "    output_folder = r\"Data/Resumes_Text/txt\"\n",
    "\n",
    "    os.makedirs(output_folder, exist_ok=True)\n",
    "\n",
    "    for file in os.listdir(folder_path):\n",
    "        if file.endswith(\".pdf\"):\n",
    "            pdf_path = os.path.join(folder_path, file)\n",
    "            text_content = pdf_to_text(pdf_path)\n",
    "\n",
    "            output_filename = os.path.splitext(file)[0] + \".txt\"\n",
    "            output_path = os.path.join(output_folder, output_filename)\n",
    "            save_as_text(text_content, output_path)\n",
    "\n",
    "    print(\"Conversion complete!\")"
   ]
  },
  {
   "cell_type": "code",
   "execution_count": null,
   "id": "0c53a221",
   "metadata": {},
   "outputs": [],
   "source": []
  }
 ],
 "metadata": {
  "kernelspec": {
   "display_name": "Python 3 (ipykernel)",
   "language": "python",
   "name": "python3"
  },
  "language_info": {
   "codemirror_mode": {
    "name": "ipython",
    "version": 3
   },
   "file_extension": ".py",
   "mimetype": "text/x-python",
   "name": "python",
   "nbconvert_exporter": "python",
   "pygments_lexer": "ipython3",
   "version": "3.11.5"
  }
 },
 "nbformat": 4,
 "nbformat_minor": 5
}
